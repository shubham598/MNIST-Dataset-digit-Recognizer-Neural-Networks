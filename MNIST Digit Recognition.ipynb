{
 "cells": [
  {
   "cell_type": "markdown",
   "metadata": {},
   "source": [
    "** Name: ** `SHUBHAM KUMAR`<br/>\n",
    "** Roll Number: ** `16CE30018`<br/>\n",
    "** Department: ** `CIVIL ENGINEERING`<br/>\n",
    "** Email: ** `SHUBHAMKUMAR598@GMAIL.COM `"
   ]
  },
  {
   "cell_type": "markdown",
   "metadata": {},
   "source": [
    "## Preamble\n",
    "\n",
    "To run and solve this assignment, one must have a working IPython Notebook installation. The easiest way to set it up for both Windows and Linux is to install [Anaconda](https://www.continuum.io/downloads). Then save this file to your computer, run Anaconda and choose this file in Anaconda's file explorer. Use `Python 3` version. Below statements assume that you have already followed these instructions. If you are new to Python or its scientific library, Numpy, there are some nice tutorials [here](https://www.learnpython.org/) and [here](http://www.scipy-lectures.org/)."
   ]
  },
  {
   "cell_type": "markdown",
   "metadata": {},
   "source": [
    "### Aim : Implement a fully connected neural network from scratch in this problem"
   ]
  },
  {
   "cell_type": "code",
   "execution_count": 1,
   "metadata": {
    "colab": {},
    "colab_type": "code",
    "id": "597wDiAvGvuB"
   },
   "outputs": [],
   "source": [
    "import numpy as np\n",
    "import matplotlib.pyplot as plt\n",
    "%matplotlib inline"
   ]
  },
  {
   "cell_type": "code",
   "execution_count": 2,
   "metadata": {
    "colab": {
     "base_uri": "https://localhost:8080/",
     "height": 34
    },
    "colab_type": "code",
    "id": "B54oZmm1DNWe",
    "outputId": "8c59bd48-230d-4fb9-eba1-82471de363df"
   },
   "outputs": [
    {
     "name": "stdout",
     "output_type": "stream",
     "text": [
      "Number of training examples: 60000\n"
     ]
    },
    {
     "data": {
      "text/plain": [
       "(60000, 784)"
      ]
     },
     "execution_count": 2,
     "metadata": {},
     "output_type": "execute_result"
    }
   ],
   "source": [
    "'''data is loaded from data directory.\n",
    "please don't remove the folder '''\n",
    "\n",
    "x_train = np.load('./data/X_train.npy')\n",
    "x_train = x_train.flatten().reshape(-1,28*28)\n",
    "x_train = x_train / 255.0\n",
    "gt_indices = np.load('./data/y_train.npy')\n",
    "train_length = len(x_train)\n",
    "print(\"Number of training examples: {:d}\".format(train_length))\n",
    "x_train.shape"
   ]
  },
  {
   "cell_type": "code",
   "execution_count": 3,
   "metadata": {
    "colab": {},
    "colab_type": "code",
    "id": "LvVFhXNB5xrD"
   },
   "outputs": [],
   "source": [
    "'''Dimensions to be used for creating model'''\n",
    "\n",
    "batch_size = 64  # batch size\n",
    "input_dim = 784  # input dimension\n",
    "hidden_1_dim = 512  # hidden layer 1 dimension\n",
    "hidden_2_dim = 256  # hidden layer 2 dimension\n",
    "output_dim = 10   # output dimension\n",
    "\n",
    "'''Other hyperparameters'''\n",
    "learning_rate = 1e-5"
   ]
  },
  {
   "cell_type": "code",
   "execution_count": 4,
   "metadata": {
    "colab": {},
    "colab_type": "code",
    "id": "hImaaujc5zXg"
   },
   "outputs": [
    {
     "name": "stdout",
     "output_type": "stream",
     "text": [
      "(60000, 10)\n"
     ]
    }
   ],
   "source": [
    "#creating one hot vector representation of output classification\n",
    "y_train = np.zeros((train_length, output_dim))\n",
    " #print(y.shape, gt_indices.shape)\n",
    "for i in range(train_length):\n",
    "    y_train[i,gt_indices[i]] = 1\n",
    "\n",
    "# Number of mini-batches (as integer) in one epoch\n",
    "num_minibatches = np.floor(train_length/batch_size).astype(int) \n",
    "print(y_train.shape)"
   ]
  },
  {
   "cell_type": "code",
   "execution_count": 5,
   "metadata": {
    "colab": {
     "base_uri": "https://localhost:8080/",
     "height": 34
    },
    "colab_type": "code",
    "id": "W7lHWEWVaVlK",
    "outputId": "4ecb1bfc-4568-44cb-e109-57677da50eb7"
   },
   "outputs": [
    {
     "name": "stdout",
     "output_type": "stream",
     "text": [
      "No of mini-batches 937 and total training data used in training:59968.\n"
     ]
    }
   ],
   "source": [
    "print(\"No of mini-batches {:d} and total training data used in training:\\\n",
    "{}.\".format(num_minibatches, num_minibatches*batch_size))"
   ]
  },
  {
   "cell_type": "code",
   "execution_count": 6,
   "metadata": {
    "colab": {},
    "colab_type": "code",
    "id": "C9HRf0Wj52cK"
   },
   "outputs": [],
   "source": [
    "'''Randomly Initialize Weights  from standard normal distribution (i.e., mean = 0 and s.d. = 1.0).\n",
    "Using the dimesnions specified in the cell 3 to initialize  weights matrices. \n",
    "Using the nomenclature W1,W2 etc. (provided below) for the different weight matrices.'''\n",
    "\n",
    "##########################  code ##############################################\n",
    "W1 = np.random.normal(loc =0.0, scale = 1.0, size =(input_dim, hidden_1_dim))\n",
    "W2 = np.random.normal(loc =0.0, scale = 1.0, size =(hidden_1_dim,hidden_2_dim))\n",
    "W3 = np.random.normal(loc =0.0, scale = 1.0, size =(hidden_2_dim,output_dim))\n",
    "\n",
    "###############################################################################################"
   ]
  },
  {
   "cell_type": "code",
   "execution_count": 7,
   "metadata": {
    "colab": {},
    "colab_type": "code",
    "id": "PmZRrEVb6CJy"
   },
   "outputs": [],
   "source": [
    "# Softmax  function\n",
    "def softmax(x):\n",
    "    ##############################################################\n",
    "    x = x - np.max(x, 1).reshape((-1, 1)) + 0.0000001\n",
    "    ####################################################################################\n",
    "    return np.exp(x)/np.expand_dims(np.sum(np.exp(x), 1), 1)\n",
    "    ####################################################################################\n",
    "    pass"
   ]
  },
  {
   "cell_type": "code",
   "execution_count": 8,
   "metadata": {
    "colab": {
     "base_uri": "https://localhost:8080/",
     "height": 697
    },
    "colab_type": "code",
    "id": "Gjz4yhwE6JQw",
    "outputId": "341578db-29a4-48ca-b0f8-a0343aadd24b"
   },
   "outputs": [
    {
     "name": "stdout",
     "output_type": "stream",
     "text": [
      " Epoch: 0, iteration: 0, Loss: 16.9816 \n",
      " Epoch: 1, iteration: 937, Loss: 2.8755 \n",
      " Epoch: 2, iteration: 1874, Loss: 2.1043 \n",
      " Epoch: 3, iteration: 2811, Loss: 2.0148 \n",
      " Epoch: 4, iteration: 3748, Loss: 1.7269 \n",
      " Epoch: 5, iteration: 4685, Loss: 1.7273 \n",
      " Epoch: 6, iteration: 5622, Loss: 1.7269 \n",
      " Epoch: 7, iteration: 6559, Loss: 1.7269 \n",
      " Epoch: 8, iteration: 7496, Loss: 1.4327 \n",
      " Epoch: 9, iteration: 8433, Loss: 1.1513 \n",
      " Epoch: 10, iteration: 9370, Loss: 1.1698 \n",
      " Epoch: 11, iteration: 10307, Loss: 1.1613 \n",
      " Epoch: 12, iteration: 11244, Loss: 1.1443 \n",
      " Epoch: 13, iteration: 12181, Loss: 0.9642 \n",
      " Epoch: 14, iteration: 13118, Loss: 0.8639 \n",
      " Epoch: 15, iteration: 14055, Loss: 0.8635 \n",
      " Epoch: 16, iteration: 14992, Loss: 0.8635 \n",
      " Epoch: 17, iteration: 15929, Loss: 0.8635 \n",
      " Epoch: 18, iteration: 16866, Loss: 0.8635 \n",
      " Epoch: 19, iteration: 17803, Loss: 0.8635 \n",
      " Epoch: 20, iteration: 18740, Loss: 0.8635 \n",
      " Epoch: 21, iteration: 19677, Loss: 0.8635 \n"
     ]
    },
    {
     "data": {
      "image/png": "[encoded data removed]",
      "text/plain": [
       "<Figure size 720x360 with 1 Axes>"
      ]
     },
     "metadata": {
      "needs_background": "light"
     },
     "output_type": "display_data"
    }
   ],
   "source": [
    "no_of_iterations = 20000\n",
    "loss_list=[]\n",
    "i_epoch = 0\n",
    "for i_iter in range(no_of_iterations):\n",
    "    \n",
    "    ''''''\n",
    "    batch_elem_idx = i_iter%num_minibatches\n",
    "    x_batchinput = x_train[batch_elem_idx*batch_size:(batch_elem_idx+1)*batch_size]\n",
    "    \n",
    "    ######################### Forward Pass Block #####################################\n",
    "    '''code for forward block of the neural network with 2 hidden layers.\n",
    "    '''\n",
    "    \n",
    "    # first hidden layer implementation\n",
    "    a1 = np.matmul(x_batchinput, W1)\n",
    "    # implement Relu layer\n",
    "    h1 = np.maximum(0, a1)\n",
    "    #  implement 2 hidden layer\n",
    "    a2 = np.matmul(h1, W2)\n",
    "    # implement Relu activation \n",
    "    h2 = np.maximum(0, a2)\n",
    "    #implement linear output layer\n",
    "    a3 = np.matmul(h2, W3)\n",
    "    # softmax layer\n",
    "    softmax_score = softmax(a3)\n",
    "    \n",
    "    ##################################################################################\n",
    "    ###############################################################################################\n",
    "    \n",
    "    neg_log_softmax_score = -np.log(softmax_score+0.00000001) # The small number is added to avoid 0 input to log function\n",
    "    \n",
    "    # Compute and print loss\n",
    "    y_batch = y_train[batch_elem_idx*batch_size : (batch_elem_idx + 1)*batch_size]\n",
    "    \n",
    "    if i_iter%num_minibatches == 0:\n",
    "        loss = np.mean(np.diag(np.take(neg_log_softmax_score, gt_indices[batch_elem_idx*batch_size:(batch_elem_idx+1)*batch_size],\\\n",
    "                                       axis=1)))\n",
    "        print(\" Epoch: {:d}, iteration: {:d}, Loss: {:6.4f} \".format(i_epoch, i_iter, loss))\n",
    "        loss_list.append(loss)\n",
    "        i_epoch += 1\n",
    "        # Each 10th epoch reduce learning rate by a factor of 10\n",
    "        if i_epoch%10 == 0:\n",
    "            learning_rate /= 10.0\n",
    "     \n",
    "    ################################### Backpropagation Code Block #####################################\n",
    "    ''' Use the convention grad_{} for computing the gradients.\n",
    "    for e.g \n",
    "        grad_W1 for gradients w.r.t. weight W1\n",
    "        grad_w2 for gradients w.r.t. weights W2'''\n",
    "    \n",
    "    # Gradient of cross-entropy loss w.r.t. preactivation of the output layer\n",
    "    grad_softmax_score = softmax_score - y_batch\n",
    "    \n",
    "    # gradient w.r.t W3\n",
    "    grad_W3 = np.matmul(h2.transpose(), grad_softmax_score)\n",
    "    # gradient w.r.t h2\n",
    "    grad_h2 = np.matmul( grad_softmax_score, W3.transpose())\n",
    "    # gradient w.r.t a2\n",
    "    grad_a2 = np.zeros(a2.shape, dtype = np.float64)\n",
    "    grad_a2[a2 > 0] = grad_h2[a2 > 0]\n",
    "    # gradient w.r.t W2\n",
    "    grad_W2 = np.matmul(h1.transpose(), grad_a2)\n",
    "    # gradient w.r.t h1\n",
    "    grad_h1 = np.matmul(grad_a2, W2.transpose())\n",
    "    # gradient w.r.t a1\n",
    "    grad_a1 = np.zeros(a1.shape, dtype = np.float64)\n",
    "    grad_a1[a1 > 0] = grad_h1[a1 > 0]\n",
    "    # gradient w.r.t W1\n",
    "    grad_W1 = np.matmul(x_batchinput.transpose(), grad_a1)\n",
    "    \n",
    "    ###############################################################################################\n",
    "    ####################################################################################################\n",
    "    \n",
    "    \n",
    "    ################################ Updating Weights Block using SGD ####################################\n",
    "    W3 -= learning_rate * grad_W3\n",
    "    W2 -= learning_rate * grad_W2\n",
    "    W1 -= learning_rate * grad_W1\n",
    "    ####################################################################################################\n",
    "    \n",
    "#plotting the loss\n",
    "plt.figure(figsize=(10,5))\n",
    "plt.plot(loss_list)\n",
    "plt.title('Loss vs epochs')\n",
    "plt.xlabel('epochs')\n",
    "plt.ylabel('Loss')\n",
    "plt.show()"
   ]
  },
  {
   "cell_type": "code",
   "execution_count": 9,
   "metadata": {},
   "outputs": [
    {
     "data": {
      "text/plain": [
       "(10000, 784)"
      ]
     },
     "execution_count": 9,
     "metadata": {},
     "output_type": "execute_result"
    }
   ],
   "source": [
    "'''Loading the test data from data/X_test.npy and data/y_test.npy.'''\n",
    "x_test = np.load('./data/X_test.npy')\n",
    "x_test = x_test.flatten().reshape(-1,28*28)\n",
    "x_test = x_test / 255.0\n",
    "y_test = np.load('./data/y_test.npy')\n",
    "x_test.shape"
   ]
  },
  {
   "cell_type": "code",
   "execution_count": 10,
   "metadata": {},
   "outputs": [
    {
     "name": "stdout",
     "output_type": "stream",
     "text": [
      "Test accuracy is 91.76 %\n"
     ]
    }
   ],
   "source": [
    "batch_size_test = 100 # Deliberately taken 100 so that it divides the test data size\n",
    "num_minibatches = len(y_test)/batch_size_test\n",
    "test_correct = 0\n",
    "\n",
    "'''Only forward block code and compute softmax_score .'''\n",
    "for i_iter in range(int(num_minibatches)):\n",
    "    \n",
    "    '''Get one minibatch'''\n",
    "    batch_elem_idx = i_iter%num_minibatches\n",
    "    x_batchinput = x_test[i_iter*batch_size_test:(i_iter+1)*batch_size_test]\n",
    "    \n",
    "    ###################\n",
    "    # first hidden layer implementation\n",
    "    # first hidden layer implementation\n",
    "    a1 = np.matmul(x_batchinput, W1)\n",
    "    # implement Relu layer\n",
    "    h1 = np.maximum(0, a1)\n",
    "    #  implement 2 hidden layer\n",
    "    a2 = np.matmul(h1, W2)\n",
    "    # implement Relu activation \n",
    "    h2 = np.maximum(0, a2)\n",
    "    #implement linear output layer\n",
    "    a3 = np.matmul(h2, W3)\n",
    "    # softmax layer\n",
    "    softmax_score = softmax(a3) \n",
    "    ##################################################################################\n",
    "    \n",
    "    y_batchinput = y_test[i_iter*batch_size_test:(i_iter+1)*batch_size_test]\n",
    "    \n",
    "    y_pred = np.argmax(softmax_score, axis=1)\n",
    "    num_correct_i_iter = np.sum(y_pred == y_batchinput)\n",
    "    test_correct += num_correct_i_iter\n",
    "print (\"Test accuracy is {:4.2f} %\".format(test_correct/len(y_test)*100))"
   ]
  },
  {
   "cell_type": "code",
   "execution_count": null,
   "metadata": {},
   "outputs": [],
   "source": []
  }
 ],
 "metadata": {
  "colab": {
   "collapsed_sections": [],
   "name": "2_Hidden_MLP_New.ipynb",
   "provenance": [],
   "version": "0.3.2"
  },
  "kernelspec": {
   "display_name": "Python 3",
   "language": "python",
   "name": "python3"
  },
  "language_info": {
   "codemirror_mode": {
    "name": "ipython",
    "version": 3
   },
   "file_extension": ".py",
   "mimetype": "text/x-python",
   "name": "python",
   "nbconvert_exporter": "python",
   "pygments_lexer": "ipython3",
   "version": "3.6.0"
  }
 },
 "nbformat": 4,
 "nbformat_minor": 2
}
